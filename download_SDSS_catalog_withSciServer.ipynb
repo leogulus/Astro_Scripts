{
 "cells": [
  {
   "cell_type": "markdown",
   "metadata": {},
   "source": [
    "### Read this before running the code\n",
    "- This code can only be run on SciServer \\<https://apps.sciserver.org/compute/>.  \n",
    "- To get access to the SciServer, You will have to create an account at \\<https://apps.sciserver.org/login-portal/>.  \n",
    "- And follow the installation steps in the Example-Notebooks \\<https://github.com/sciserver/Example-Notebooks#installation>.\n",
    "- Once you create a persistent folder in `/Storage/<username>/persistent/`, upload this code to that folder. The script should work in this particular environment.\n"
   ]
  },
  {
   "cell_type": "code",
   "execution_count": 1,
   "metadata": {},
   "outputs": [
    {
     "name": "stdout",
     "output_type": "stream",
     "text": [
      "Imported SciServer modules\n",
      "Imported other needed modules\n"
     ]
    }
   ],
   "source": [
    "import SciServer\n",
    "from SciServer import CasJobs     # Communicate between SciServer Compute and CasJobs\n",
    "print('Imported SciServer modules')\n",
    "\n",
    "import pandas                                # data analysis tools\n",
    "import numpy as np                           # numerical tools\n",
    "from datetime import datetime, timedelta     # date and timestamp tools\n",
    "from pprint import pprint                    # print human-readable output\n",
    "print('Imported other needed modules')"
   ]
  },
  {
   "cell_type": "code",
   "execution_count": 26,
   "metadata": {},
   "outputs": [],
   "source": [
    "def download_sdss_casjob_nearbyobj(ra, dec, radius, outputName):\n",
    "    query_sdss=f\"\"\"SELECT\n",
    "    p.ObjID, p.ra, p.dec, n.distance, p.cmodelMag_u, p.cmodelMagErr_u, p.cmodelMag_g, p.cmodelMagErr_g, p.cmodelMag_r, p.cmodelMagErr_r,\n",
    "    p.cmodelMag_i, p.cmodelMagErr_i, p.cmodelMag_z, p.cmodelMagErr_z, z.z, z.zErr, p.psfMag_g, psfMagErr_g, p.psfMag_r, psfMagErr_r, p.psfMag_i, psfMagErr_i\n",
    "    FROM PhotoObj p\n",
    "      JOIN dbo.fGetNearbyObjEq({str(ra)},{str(dec)},{str(radius)}) n ON n.objID = p.objID,\n",
    "      PhotoZ z\n",
    "    WHERE\n",
    "      p.type = 3\n",
    "      and p.objID = z.objID\"\"\"\n",
    "    # radius = arcmin\n",
    "    # p.type: http://cas.sdss.org/dr7/en/help/browser/enum.asp?n=PhotoType: 3 galaxies, 6 stars\n",
    "\n",
    "    df = CasJobs.executeQuery(sql=query_sdss, context=\"DR14\")\n",
    "    df.to_csv(outputName)\n",
    "    return df"
   ]
  },
  {
   "cell_type": "code",
   "execution_count": 24,
   "metadata": {},
   "outputs": [],
   "source": [
    "ra = 138.436415\n",
    "dec = 40.940804\n",
    "radius = 3 #arcmin\n",
    "outputName = 'test_sdss.csv'"
   ]
  },
  {
   "cell_type": "code",
   "execution_count": 25,
   "metadata": {},
   "outputs": [],
   "source": [
    "df = download_sdss_casjob_nearbyobj(ra, dec, radius, outputName)"
   ]
  },
  {
   "cell_type": "markdown",
   "metadata": {},
   "source": [
    "feel free to add more codes below to suit your need."
   ]
  },
  {
   "cell_type": "code",
   "execution_count": null,
   "metadata": {},
   "outputs": [],
   "source": []
  }
 ],
 "metadata": {
  "kernelspec": {
   "display_name": "Python 3.8 (py38)",
   "language": "python",
   "name": "py38"
  },
  "language_info": {
   "codemirror_mode": {
    "name": "ipython",
    "version": 3
   },
   "file_extension": ".py",
   "mimetype": "text/x-python",
   "name": "python",
   "nbconvert_exporter": "python",
   "pygments_lexer": "ipython3",
   "version": "3.8.5"
  }
 },
 "nbformat": 4,
 "nbformat_minor": 4
}
